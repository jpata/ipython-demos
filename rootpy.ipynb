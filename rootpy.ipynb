{
 "cells": [
  {
   "cell_type": "code",
   "execution_count": 2,
   "metadata": {
    "collapsed": true
   },
   "outputs": [],
   "source": [
    "import ROOT\n",
    "ROOT.gROOT.SetBatch(True)\n",
    "\n",
    "from rootpy.plotting import Hist\n",
    "import numpy as np"
   ]
  },
  {
   "cell_type": "markdown",
   "metadata": {},
   "source": [
    "Create a histo from a normal distribution"
   ]
  },
  {
   "cell_type": "code",
   "execution_count": 27,
   "metadata": {
    "collapsed": false
   },
   "outputs": [],
   "source": [
    "h = Hist(20, -5, 5)\n",
    "h.color = \"red\"\n",
    "rands = np.random.normal(0, 1, 10000)\n",
    "weights = np.ones(len(rands))\n",
    "h.FillN(len(rands), rands, weights)"
   ]
  },
  {
   "cell_type": "markdown",
   "metadata": {},
   "source": [
    "We can just plot the histogram"
   ]
  },
  {
   "cell_type": "code",
   "execution_count": 58,
   "metadata": {
    "collapsed": false
   },
   "outputs": [
    {
     "data": {
      "image/png": "[encoded data removed]",
      "text/plain": [
       "Hist('f2f1b8c6d77b47af97d1248f90169173')"
      ]
     },
     "execution_count": 58,
     "metadata": {},
     "output_type": "execute_result"
    }
   ],
   "source": [
    "h"
   ]
  },
  {
   "cell_type": "markdown",
   "metadata": {},
   "source": [
    "There is a fancier way to plot"
   ]
  },
  {
   "cell_type": "code",
   "execution_count": 13,
   "metadata": {
    "collapsed": true
   },
   "outputs": [],
   "source": [
    "import rootpy.plotting.root2matplotlib as rplt\n",
    "import matplotlib.pyplot as plt\n",
    "\n",
    "%matplotlib inline"
   ]
  },
  {
   "cell_type": "code",
   "execution_count": 110,
   "metadata": {
    "collapsed": false
   },
   "outputs": [
    {
     "data": {
      "text/plain": [
       "'$'"
      ]
     },
     "execution_count": 110,
     "metadata": {},
     "output_type": "execute_result"
    }
   ],
   "source": [
    "\"$\""
   ]
  },
  {
   "cell_type": "code",
   "execution_count": 104,
   "metadata": {
    "collapsed": false
   },
   "outputs": [],
   "source": [
    "s = \"my fancy $ \\\\frac{x}{y}\\\\ t\\\\bar{t} $\""
   ]
  },
  {
   "cell_type": "code",
   "execution_count": 105,
   "metadata": {
    "collapsed": false
   },
   "outputs": [
    {
     "data": {
      "text/plain": [
       "<matplotlib.text.Text at 0x11e3ac0d0>"
      ]
     },
     "execution_count": 105,
     "metadata": {},
     "output_type": "execute_result"
    },
    {
     "data": {
      "image/png": "[encoded data removed]",
      "text/plain": [
       "<matplotlib.figure.Figure at 0x11e11e790>"
      ]
     },
     "metadata": {},
     "output_type": "display_data"
    }
   ],
   "source": [
    "plt.figure(figsize=(5,5))\n",
    "plt.grid()\n",
    "rplt.errorbar(h)\n",
    "plt.xlabel(s, fontsize=16)"
   ]
  },
  {
   "cell_type": "markdown",
   "metadata": {},
   "source": [
    "We can get all the bins easily"
   ]
  },
  {
   "cell_type": "code",
   "execution_count": 106,
   "metadata": {
    "collapsed": false
   },
   "outputs": [
    {
     "name": "stdout",
     "output_type": "stream",
     "text": [
      "0 -5.0 -4.5\n",
      "1 -4.5 -4.0\n",
      "2 -4.0 -3.5\n",
      "3 -3.5 -3.0\n",
      "4 -3.0 -2.5\n",
      "5 -2.5 -2.0\n",
      "6 -2.0 -1.5\n",
      "7 -1.5 -1.0\n",
      "8 -1.0 -0.5\n",
      "9 -0.5 0.0\n",
      "10 0.0 0.5\n",
      "11 0.5 1.0\n",
      "12 1.0 1.5\n",
      "13 1.5 2.0\n",
      "14 2.0 2.5\n",
      "15 2.5 3.0\n",
      "16 3.0 3.5\n",
      "17 3.5 4.0\n",
      "18 4.0 4.5\n",
      "19 4.5 5.0\n"
     ]
    }
   ],
   "source": [
    "for ib, b in enumerate(h.bins()):\n",
    "    print ib, b.x.low, b.x.high"
   ]
  },
  {
   "cell_type": "markdown",
   "metadata": {},
   "source": [
    "We can make an array from the histo contents in an unsafe way"
   ]
  },
  {
   "cell_type": "code",
   "execution_count": 107,
   "metadata": {
    "collapsed": true
   },
   "outputs": [],
   "source": [
    "np.frombuffer?"
   ]
  },
  {
   "cell_type": "code",
   "execution_count": 108,
   "metadata": {
    "collapsed": false
   },
   "outputs": [],
   "source": [
    "fs = np.frombuffer(h.fArray, dtype=\"f\", count=h.fN)"
   ]
  },
  {
   "cell_type": "code",
   "execution_count": 109,
   "metadata": {
    "collapsed": false
   },
   "outputs": [
    {
     "data": {
      "text/plain": [
       "array([  0.00000000e+00,   0.00000000e+00,   1.00000000e+00,\n",
       "         2.00000000e+00,   1.10000000e+01,   5.50000000e+01,\n",
       "         1.56000000e+02,   4.23000000e+02,   9.25000000e+02,\n",
       "         1.52200000e+03,   1.89100000e+03,   1.95400000e+03,\n",
       "         1.46700000e+03,   9.46000000e+02,   4.18000000e+02,\n",
       "         1.67000000e+02,   4.70000000e+01,   1.40000000e+01,\n",
       "         1.00000000e+00,   0.00000000e+00,   0.00000000e+00,\n",
       "         0.00000000e+00], dtype=float32)"
      ]
     },
     "execution_count": 109,
     "metadata": {},
     "output_type": "execute_result"
    }
   ],
   "source": [
    "fs"
   ]
  },
  {
   "cell_type": "code",
   "execution_count": null,
   "metadata": {
    "collapsed": true
   },
   "outputs": [],
   "source": []
  }
 ],
 "metadata": {
  "kernelspec": {
   "display_name": "Python 2",
   "language": "python",
   "name": "python2"
  },
  "language_info": {
   "codemirror_mode": {
    "name": "ipython",
    "version": 2
   },
   "file_extension": ".py",
   "mimetype": "text/x-python",
   "name": "python",
   "nbconvert_exporter": "python",
   "pygments_lexer": "ipython2",
   "version": "2.7.9"
  }
 },
 "nbformat": 4,
 "nbformat_minor": 0
}
